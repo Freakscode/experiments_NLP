{
 "cells": [
  {
   "cell_type": "code",
   "execution_count": null,
   "metadata": {},
   "outputs": [],
   "source": [
    "# Instalar las bibliotecas necesarias\n",
    "%pip install numpy pandas scikit-learn gensim transformers torch python-docx"
   ]
  },
  {
   "cell_type": "code",
   "execution_count": 2,
   "metadata": {},
   "outputs": [
    {
     "name": "stderr",
     "output_type": "stream",
     "text": [
      "c:\\Users\\gabca\\OneDrive - pascualbravo.edu.co\\PROYECTO NLP\\Experimentos\\.venv\\Lib\\site-packages\\tqdm\\auto.py:21: TqdmWarning: IProgress not found. Please update jupyter and ipywidgets. See https://ipywidgets.readthedocs.io/en/stable/user_install.html\n",
      "  from .autonotebook import tqdm as notebook_tqdm\n"
     ]
    }
   ],
   "source": [
    "# Importar las bibliotecas\n",
    "import os\n",
    "import numpy as np\n",
    "import pandas as pd\n",
    "from sklearn.feature_extraction.text import TfidfVectorizer\n",
    "from sklearn.metrics.pairwise import cosine_similarity\n",
    "from gensim.models import Word2Vec\n",
    "from transformers import BertTokenizer, BertModel\n",
    "import torch\n",
    "from docx import Document"
   ]
  },
  {
   "cell_type": "code",
   "execution_count": 6,
   "metadata": {},
   "outputs": [],
   "source": [
    "# Función para cargar documentos .docx desde una carpeta\n",
    "def load_docx_files(folder_path):\n",
    "    documents = []\n",
    "    for filename in os.listdir(folder_path):\n",
    "        if filename.endswith('.docx'):\n",
    "            doc_path = os.path.join(folder_path, filename)\n",
    "            doc = Document(doc_path)\n",
    "            text = ' '.join([para.text for para in doc.paragraphs])\n",
    "            documents.append(text)\n",
    "    return documents\n",
    "# Cargar documentos desde la carpeta especificada\n",
    "folder_path = './Documentos de Pruebas'  # Cambia esto a la ruta de tu carpeta\n",
    "documents = load_docx_files(folder_path)"
   ]
  },
  {
   "cell_type": "code",
   "execution_count": 7,
   "metadata": {},
   "outputs": [],
   "source": [
    "# 1. TF-IDF\n",
    "tfidf_vectorizer = TfidfVectorizer()\n",
    "tfidf_matrix = tfidf_vectorizer.fit_transform(documents)"
   ]
  },
  {
   "cell_type": "code",
   "execution_count": 8,
   "metadata": {},
   "outputs": [],
   "source": [
    "# 2. Word Embeddings (Word2Vec)\n",
    "tokenized_docs = [doc.split() for doc in documents]\n",
    "word2vec_model = Word2Vec(tokenized_docs, vector_size=100, window=5, min_count=1, workers=4)"
   ]
  },
  {
   "cell_type": "code",
   "execution_count": 9,
   "metadata": {},
   "outputs": [
    {
     "name": "stderr",
     "output_type": "stream",
     "text": [
      "c:\\Users\\gabca\\OneDrive - pascualbravo.edu.co\\PROYECTO NLP\\Experimentos\\.venv\\Lib\\site-packages\\transformers\\tokenization_utils_base.py:1601: FutureWarning: `clean_up_tokenization_spaces` was not set. It will be set to `True` by default. This behavior will be depracted in transformers v4.45, and will be then set to `False` by default. For more details check this issue: https://github.com/huggingface/transformers/issues/31884\n",
      "  warnings.warn(\n"
     ]
    }
   ],
   "source": [
    "# 3. BERT\n",
    "tokenizer = BertTokenizer.from_pretrained('bert-base-uncased')\n",
    "bert_model = BertModel.from_pretrained('bert-base-uncased')\n",
    "\n",
    "def get_bert_embeddings(doc):\n",
    "    inputs = tokenizer(doc, return_tensors='pt', padding=True, truncation=True)\n",
    "    outputs = bert_model(**inputs)\n",
    "    return outputs.last_hidden_state.mean(dim=1).detach().numpy()\n",
    "\n",
    "bert_embeddings = np.array([get_bert_embeddings(doc) for doc in documents])"
   ]
  },
  {
   "cell_type": "code",
   "execution_count": 10,
   "metadata": {},
   "outputs": [],
   "source": [
    "# 4. Topic Modelling (LDA)\n",
    "from gensim import corpora\n",
    "from gensim.models import LdaModel\n",
    "\n",
    "dictionary = corpora.Dictionary(tokenized_docs)\n",
    "corpus = [dictionary.doc2bow(doc) for doc in tokenized_docs]\n",
    "lda_model = LdaModel(corpus, num_topics=2, id2word=dictionary, passes=10)"
   ]
  },
  {
   "cell_type": "code",
   "execution_count": 11,
   "metadata": {},
   "outputs": [],
   "source": [
    "# Función para calcular la similitud del coseno\n",
    "def semantic_similarity_tfidf(target_doc, other_doc):\n",
    "    # Vectorizar los documentos\n",
    "    tfidf_vectorizer = TfidfVectorizer()\n",
    "    tfidf_matrix = tfidf_vectorizer.fit_transform([target_doc, other_doc])\n",
    "    # Calcular la similitud del coseno\n",
    "    similarity = cosine_similarity(tfidf_matrix[0:1], tfidf_matrix[1:2])\n",
    "    return similarity[0][0]\n",
    "\n",
    "def semantic_similarity_bert(target_doc, other_doc):\n",
    "    # Obtener embeddings de BERT\n",
    "    target_embedding = get_bert_embeddings(target_doc)\n",
    "    other_embedding = get_bert_embeddings(other_doc)\n",
    "    # Calcular la similitud del coseno\n",
    "    similarity = cosine_similarity(target_embedding, other_embedding)\n",
    "    return similarity[0][0]\n"
   ]
  },
  {
   "cell_type": "code",
   "execution_count": 13,
   "metadata": {},
   "outputs": [
    {
     "name": "stdout",
     "output_type": "stream",
     "text": [
      "['La evolución de la inteligencia artificial  La inteligencia artificial (IA) ha experimentado un crecimiento exponencial en las últimas décadas, transformando diversos aspectos de nuestra vida cotidiana y revolucionando industrias enteras. Desde sus humildes inicios como un concepto teórico, la IA ha evolucionado hasta convertirse en una tecnología omnipresente con aplicaciones prácticas en casi todos los sectores.  El término \"inteligencia artificial\" fue acuñado en 1956 durante la conferencia de Dartmouth, donde científicos pioneros como John McCarthy y Marvin Minsky sentaron las bases de este campo. En sus primeras etapas, la IA se centró en la resolución de problemas y el razonamiento simbólico, con sistemas expertos que intentaban emular el proceso de toma de decisiones humano.  A medida que avanzaba la tecnología, surgieron nuevos enfoques. El aprendizaje automático, una rama de la IA, ganó prominencia en los años 80 y 90. Esta técnica permite a las máquinas aprender de los datos sin ser programadas explícitamente para cada tarea. El auge del big data y el aumento de la potencia de cómputo en el siglo XXI impulsaron aún más el desarrollo de algoritmos de aprendizaje profundo, capaces de procesar y analizar cantidades masivas de información.  Hoy en día, la IA está presente en numerosas aplicaciones:  1. Asistentes virtuales como Siri, Alexa y Google Assistant 2. Sistemas de recomendación en plataformas de streaming y comercio electrónico 3. Vehículos autónomos 4. Diagnóstico médico y análisis de imágenes médicas 5. Sistemas de trading algorítmico en los mercados financieros  Sin embargo, el rápido avance de la IA también plantea desafíos éticos y sociales significativos. Preocupaciones sobre la privacidad, la seguridad de los datos, el sesgo algorítmico y el impacto en el empleo son temas de debate constante entre expertos, legisladores y el público en general.  A medida que la IA continúa evolucionando, es probable que veamos avances aún más sorprendentes en el futuro cercano. Desde la mejora de la inteligencia general artificial hasta la integración más profunda de la IA en la robótica y la Internet de las cosas, el potencial de esta tecnología para transformar nuestro mundo parece ilimitado.  En conclusión, la evolución de la inteligencia artificial representa uno de los desarrollos tecnológicos más significativos de nuestra era. Su impacto continuará moldeando el futuro de la sociedad, la economía y la forma en que interactuamos con la tecnología en nuestra vida diaria.', 'La importancia del ejercicio físico regular  El ejercicio físico regular es fundamental para mantener una buena salud. Realizar actividad física de manera constante no solo fortalece los músculos y huesos, sino que también mejora la salud cardiovascular. Además, el ejercicio tiene un impacto positivo en la salud mental, reduciendo el estrés y la ansiedad.  Expertos recomiendan dedicar al menos 150 minutos semanales a actividades físicas moderadas. Estas pueden incluir caminatas rápidas, natación o ciclismo. Para aquellos que prefieren actividades más intensas, 75 minutos de ejercicio vigoroso por semana pueden ser suficientes.  El ejercicio regular también ayuda a mantener un peso saludable y reduce el riesgo de desarrollar enfermedades crónicas como la diabetes tipo 2 y ciertas formas de cáncer. Incluso pequeños incrementos en la actividad física diaria pueden tener beneficios significativos para la salud a largo plazo.  En conclusión, incorporar el ejercicio como parte de la rutina diaria es una inversión importante en la salud y el bienestar general. Independientemente de la edad o condición física, siempre es un buen momento para comenzar a llevar un estilo de vida más activo.', 'Los beneficios de una vida activa  Mantenerse activo físicamente es crucial para una vida saludable. La práctica regular de ejercicio no solo contribuye a tener un cuerpo más fuerte y resistente, sino que también es beneficiosa para el corazón y los vasos sanguíneos. Asimismo, moverse con frecuencia tiene efectos positivos en nuestro bienestar emocional, ayudando a combatir el estrés y los estados de ánimo negativos.  Los profesionales de la salud sugieren realizar actividades físicas moderadas durante al menos dos horas y media cada semana. Esto puede lograrse con actividades como paseos a paso ligero, sesiones de natación o recorridos en bicicleta. Si se prefieren ejercicios más intensos, una hora y cuarto de actividad vigorosa semanal puede ser equivalente.  Adoptar un estilo de vida activo también es útil para controlar el peso corporal y disminuye las probabilidades de sufrir enfermedades como la diabetes mellitus tipo 2 y algunos tipos de cáncer. Es importante destacar que incluso pequeños aumentos en el movimiento diario pueden repercutir positivamente en la salud a lo largo del tiempo.  Para concluir, hacer del ejercicio una parte integral de nuestras vidas es una decisión acertada para mejorar la calidad de vida y la salud en general. Sin importar la edad o el estado físico actual, nunca es tarde para empezar a moverse más y disfrutar de los beneficios de una vida activa.']\n"
     ]
    }
   ],
   "source": [
    "print(documents)"
   ]
  },
  {
   "cell_type": "code",
   "execution_count": 14,
   "metadata": {},
   "outputs": [
    {
     "name": "stdout",
     "output_type": "stream",
     "text": [
      "Comparando con Documento 0:\n",
      "- Documento: La evolución de la inteligenci...\n",
      "Similitud TF-IDF: 0.5147\n",
      "Similitud BERT: 0.9541\n",
      "\n",
      "Comparando con Documento 2:\n",
      "- Documento: Los beneficios de una vida act...\n",
      "Similitud TF-IDF: 0.6147\n",
      "Similitud BERT: 0.9918\n",
      "\n"
     ]
    }
   ],
   "source": [
    "# Documento objetivo (puedes seleccionar el índice del documento que deseas comparar)\n",
    "target_index = 1  # Cambia esto al índice del documento objetivo\n",
    "target_document = documents[target_index]\n",
    "\n",
    "# Comparar el documento objetivo con todos los demás documentos\n",
    "for i in range(len(documents)):\n",
    "    if i != target_index:  # Evitar comparar el documento consigo mismo\n",
    "        tfidf_sim = semantic_similarity_tfidf(target_document, documents[i])\n",
    "        bert_sim = semantic_similarity_bert(target_document, documents[i])\n",
    "        \n",
    "        print(f\"Comparando con Documento {i}:\\n- Documento: {documents[i][:30]}...\")\n",
    "        print(f\"Similitud TF-IDF: {tfidf_sim:.4f}\")\n",
    "        print(f\"Similitud BERT: {bert_sim:.4f}\\n\")"
   ]
  }
 ],
 "metadata": {
  "kernelspec": {
   "display_name": "Python 3",
   "language": "python",
   "name": "python3"
  },
  "language_info": {
   "codemirror_mode": {
    "name": "ipython",
    "version": 3
   },
   "file_extension": ".py",
   "mimetype": "text/x-python",
   "name": "python",
   "nbconvert_exporter": "python",
   "pygments_lexer": "ipython3",
   "version": "3.12.6"
  }
 },
 "nbformat": 4,
 "nbformat_minor": 2
}
